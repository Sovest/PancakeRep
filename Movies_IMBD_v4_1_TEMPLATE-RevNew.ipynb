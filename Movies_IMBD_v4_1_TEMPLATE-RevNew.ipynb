{
 "cells": [
  {
   "cell_type": "code",
   "execution_count": 1,
   "metadata": {
    "_cell_guid": "b1076dfc-b9ad-4769-8c92-a6c4dae69d19",
    "_uuid": "8f2839f25d086af736a60e9eeb907d3b93b6e0e5",
    "colab": {},
    "colab_type": "code",
    "id": "U2D2gTdJVp90"
   },
   "outputs": [],
   "source": [
    "import numpy as np\n",
    "import pandas as pd\n",
    "import seaborn as sns\n",
    "import matplotlib.pyplot as plt\n",
    "from collections import Counter"
   ]
  },
  {
   "cell_type": "code",
   "execution_count": 2,
   "metadata": {
    "_cell_guid": "79c7e3d0-c299-4dcb-8224-4455121ee9b0",
    "_uuid": "d629ff2d2480ee46fbb7e2d37f6b5fab8052498a",
    "colab": {},
    "colab_type": "code",
    "id": "oyGfxL3eVp9-",
    "scrolled": false
   },
   "outputs": [
    {
     "data": {
      "text/html": [
       "<div>\n",
       "<style scoped>\n",
       "    .dataframe tbody tr th:only-of-type {\n",
       "        vertical-align: middle;\n",
       "    }\n",
       "\n",
       "    .dataframe tbody tr th {\n",
       "        vertical-align: top;\n",
       "    }\n",
       "\n",
       "    .dataframe thead th {\n",
       "        text-align: right;\n",
       "    }\n",
       "</style>\n",
       "<table border=\"1\" class=\"dataframe\">\n",
       "  <thead>\n",
       "    <tr style=\"text-align: right;\">\n",
       "      <th></th>\n",
       "      <th>imdb_id</th>\n",
       "      <th>budget</th>\n",
       "      <th>revenue</th>\n",
       "      <th>original_title</th>\n",
       "      <th>cast</th>\n",
       "      <th>director</th>\n",
       "      <th>tagline</th>\n",
       "      <th>overview</th>\n",
       "      <th>runtime</th>\n",
       "      <th>genres</th>\n",
       "      <th>production_companies</th>\n",
       "      <th>release_date</th>\n",
       "      <th>vote_average</th>\n",
       "      <th>release_year</th>\n",
       "    </tr>\n",
       "  </thead>\n",
       "  <tbody>\n",
       "    <tr>\n",
       "      <th>1122</th>\n",
       "      <td>tt0322330</td>\n",
       "      <td>26000000</td>\n",
       "      <td>110230332</td>\n",
       "      <td>Freaky Friday</td>\n",
       "      <td>Jamie Lee Curtis|Lindsay Lohan|Mark Harmon|Har...</td>\n",
       "      <td>Mark Waters</td>\n",
       "      <td>Mondays are manic. Wednesdays are wild. And Fr...</td>\n",
       "      <td>Mother and daughter bicker over everything -- ...</td>\n",
       "      <td>97</td>\n",
       "      <td>Comedy|Family|Fantasy</td>\n",
       "      <td>Walt Disney Pictures</td>\n",
       "      <td>8/3/2003</td>\n",
       "      <td>6.0</td>\n",
       "      <td>2003</td>\n",
       "    </tr>\n",
       "    <tr>\n",
       "      <th>639</th>\n",
       "      <td>tt0758774</td>\n",
       "      <td>70000000</td>\n",
       "      <td>113280098</td>\n",
       "      <td>Body of Lies</td>\n",
       "      <td>Leonardo DiCaprio|Russell Crowe|Mark Strong|Al...</td>\n",
       "      <td>Ridley Scott</td>\n",
       "      <td>Trust no one. Deceive everyone.</td>\n",
       "      <td>Body of Lies follows CIA operative, Roger Ferr...</td>\n",
       "      <td>128</td>\n",
       "      <td>Action|Drama|Thriller</td>\n",
       "      <td>Scott Free Productions|De Line Pictures|Warner...</td>\n",
       "      <td>10/10/2008</td>\n",
       "      <td>6.5</td>\n",
       "      <td>2008</td>\n",
       "    </tr>\n",
       "  </tbody>\n",
       "</table>\n",
       "</div>"
      ],
      "text/plain": [
       "        imdb_id    budget    revenue original_title  \\\n",
       "1122  tt0322330  26000000  110230332  Freaky Friday   \n",
       "639   tt0758774  70000000  113280098   Body of Lies   \n",
       "\n",
       "                                                   cast      director  \\\n",
       "1122  Jamie Lee Curtis|Lindsay Lohan|Mark Harmon|Har...   Mark Waters   \n",
       "639   Leonardo DiCaprio|Russell Crowe|Mark Strong|Al...  Ridley Scott   \n",
       "\n",
       "                                                tagline  \\\n",
       "1122  Mondays are manic. Wednesdays are wild. And Fr...   \n",
       "639                     Trust no one. Deceive everyone.   \n",
       "\n",
       "                                               overview  runtime  \\\n",
       "1122  Mother and daughter bicker over everything -- ...       97   \n",
       "639   Body of Lies follows CIA operative, Roger Ferr...      128   \n",
       "\n",
       "                     genres  \\\n",
       "1122  Comedy|Family|Fantasy   \n",
       "639   Action|Drama|Thriller   \n",
       "\n",
       "                                   production_companies release_date  \\\n",
       "1122                               Walt Disney Pictures     8/3/2003   \n",
       "639   Scott Free Productions|De Line Pictures|Warner...   10/10/2008   \n",
       "\n",
       "      vote_average  release_year  \n",
       "1122           6.0          2003  \n",
       "639            6.5          2008  "
      ]
     },
     "execution_count": 2,
     "metadata": {},
     "output_type": "execute_result"
    }
   ],
   "source": [
    "data = pd.read_csv('movie_bd_v5.xls')\n",
    "data.sample(2)"
   ]
  },
  {
   "cell_type": "code",
   "execution_count": 3,
   "metadata": {
    "colab": {},
    "colab_type": "code",
    "id": "CoYUnagMVp-C"
   },
   "outputs": [
    {
     "data": {
      "text/html": [
       "<div>\n",
       "<style scoped>\n",
       "    .dataframe tbody tr th:only-of-type {\n",
       "        vertical-align: middle;\n",
       "    }\n",
       "\n",
       "    .dataframe tbody tr th {\n",
       "        vertical-align: top;\n",
       "    }\n",
       "\n",
       "    .dataframe thead th {\n",
       "        text-align: right;\n",
       "    }\n",
       "</style>\n",
       "<table border=\"1\" class=\"dataframe\">\n",
       "  <thead>\n",
       "    <tr style=\"text-align: right;\">\n",
       "      <th></th>\n",
       "      <th>budget</th>\n",
       "      <th>revenue</th>\n",
       "      <th>runtime</th>\n",
       "      <th>vote_average</th>\n",
       "      <th>release_year</th>\n",
       "    </tr>\n",
       "  </thead>\n",
       "  <tbody>\n",
       "    <tr>\n",
       "      <th>count</th>\n",
       "      <td>1.889000e+03</td>\n",
       "      <td>1.889000e+03</td>\n",
       "      <td>1889.000000</td>\n",
       "      <td>1889.000000</td>\n",
       "      <td>1889.000000</td>\n",
       "    </tr>\n",
       "    <tr>\n",
       "      <th>mean</th>\n",
       "      <td>5.431083e+07</td>\n",
       "      <td>1.553653e+08</td>\n",
       "      <td>109.658549</td>\n",
       "      <td>6.140762</td>\n",
       "      <td>2007.860773</td>\n",
       "    </tr>\n",
       "    <tr>\n",
       "      <th>std</th>\n",
       "      <td>4.858721e+07</td>\n",
       "      <td>2.146698e+08</td>\n",
       "      <td>18.017041</td>\n",
       "      <td>0.764763</td>\n",
       "      <td>4.468841</td>\n",
       "    </tr>\n",
       "    <tr>\n",
       "      <th>min</th>\n",
       "      <td>5.000000e+06</td>\n",
       "      <td>2.033165e+06</td>\n",
       "      <td>63.000000</td>\n",
       "      <td>3.300000</td>\n",
       "      <td>2000.000000</td>\n",
       "    </tr>\n",
       "    <tr>\n",
       "      <th>25%</th>\n",
       "      <td>2.000000e+07</td>\n",
       "      <td>3.456058e+07</td>\n",
       "      <td>97.000000</td>\n",
       "      <td>5.600000</td>\n",
       "      <td>2004.000000</td>\n",
       "    </tr>\n",
       "    <tr>\n",
       "      <th>50%</th>\n",
       "      <td>3.800000e+07</td>\n",
       "      <td>8.361541e+07</td>\n",
       "      <td>107.000000</td>\n",
       "      <td>6.100000</td>\n",
       "      <td>2008.000000</td>\n",
       "    </tr>\n",
       "    <tr>\n",
       "      <th>75%</th>\n",
       "      <td>7.200000e+07</td>\n",
       "      <td>1.782626e+08</td>\n",
       "      <td>120.000000</td>\n",
       "      <td>6.600000</td>\n",
       "      <td>2012.000000</td>\n",
       "    </tr>\n",
       "    <tr>\n",
       "      <th>max</th>\n",
       "      <td>3.800000e+08</td>\n",
       "      <td>2.781506e+09</td>\n",
       "      <td>214.000000</td>\n",
       "      <td>8.100000</td>\n",
       "      <td>2015.000000</td>\n",
       "    </tr>\n",
       "  </tbody>\n",
       "</table>\n",
       "</div>"
      ],
      "text/plain": [
       "             budget       revenue      runtime  vote_average  release_year\n",
       "count  1.889000e+03  1.889000e+03  1889.000000   1889.000000   1889.000000\n",
       "mean   5.431083e+07  1.553653e+08   109.658549      6.140762   2007.860773\n",
       "std    4.858721e+07  2.146698e+08    18.017041      0.764763      4.468841\n",
       "min    5.000000e+06  2.033165e+06    63.000000      3.300000   2000.000000\n",
       "25%    2.000000e+07  3.456058e+07    97.000000      5.600000   2004.000000\n",
       "50%    3.800000e+07  8.361541e+07   107.000000      6.100000   2008.000000\n",
       "75%    7.200000e+07  1.782626e+08   120.000000      6.600000   2012.000000\n",
       "max    3.800000e+08  2.781506e+09   214.000000      8.100000   2015.000000"
      ]
     },
     "execution_count": 3,
     "metadata": {},
     "output_type": "execute_result"
    }
   ],
   "source": [
    "data.describe()"
   ]
  },
  {
   "cell_type": "code",
   "execution_count": 4,
   "metadata": {},
   "outputs": [
    {
     "data": {
      "text/html": [
       "<div>\n",
       "<style scoped>\n",
       "    .dataframe tbody tr th:only-of-type {\n",
       "        vertical-align: middle;\n",
       "    }\n",
       "\n",
       "    .dataframe tbody tr th {\n",
       "        vertical-align: top;\n",
       "    }\n",
       "\n",
       "    .dataframe thead th {\n",
       "        text-align: right;\n",
       "    }\n",
       "</style>\n",
       "<table border=\"1\" class=\"dataframe\">\n",
       "  <thead>\n",
       "    <tr style=\"text-align: right;\">\n",
       "      <th></th>\n",
       "      <th>imdb_id</th>\n",
       "      <th>original_title</th>\n",
       "      <th>cast</th>\n",
       "      <th>director</th>\n",
       "      <th>tagline</th>\n",
       "      <th>overview</th>\n",
       "      <th>genres</th>\n",
       "      <th>production_companies</th>\n",
       "      <th>release_date</th>\n",
       "    </tr>\n",
       "  </thead>\n",
       "  <tbody>\n",
       "    <tr>\n",
       "      <th>count</th>\n",
       "      <td>1889</td>\n",
       "      <td>1889</td>\n",
       "      <td>1889</td>\n",
       "      <td>1889</td>\n",
       "      <td>1889</td>\n",
       "      <td>1889</td>\n",
       "      <td>1889</td>\n",
       "      <td>1889</td>\n",
       "      <td>1889</td>\n",
       "    </tr>\n",
       "    <tr>\n",
       "      <th>unique</th>\n",
       "      <td>1889</td>\n",
       "      <td>1887</td>\n",
       "      <td>1878</td>\n",
       "      <td>957</td>\n",
       "      <td>1880</td>\n",
       "      <td>1889</td>\n",
       "      <td>652</td>\n",
       "      <td>1624</td>\n",
       "      <td>1435</td>\n",
       "    </tr>\n",
       "    <tr>\n",
       "      <th>top</th>\n",
       "      <td>tt0427309</td>\n",
       "      <td>Fantastic Four</td>\n",
       "      <td>Elijah Wood|Ian McKellen|Viggo Mortensen|Liv T...</td>\n",
       "      <td>Steven Soderbergh</td>\n",
       "      <td>The only way out is down.</td>\n",
       "      <td>Dr. John Dolittle the beloved doctor is back, ...</td>\n",
       "      <td>Comedy</td>\n",
       "      <td>New Line Cinema</td>\n",
       "      <td>12/25/2014</td>\n",
       "    </tr>\n",
       "    <tr>\n",
       "      <th>freq</th>\n",
       "      <td>1</td>\n",
       "      <td>2</td>\n",
       "      <td>3</td>\n",
       "      <td>13</td>\n",
       "      <td>2</td>\n",
       "      <td>1</td>\n",
       "      <td>141</td>\n",
       "      <td>21</td>\n",
       "      <td>7</td>\n",
       "    </tr>\n",
       "  </tbody>\n",
       "</table>\n",
       "</div>"
      ],
      "text/plain": [
       "          imdb_id  original_title  \\\n",
       "count        1889            1889   \n",
       "unique       1889            1887   \n",
       "top     tt0427309  Fantastic Four   \n",
       "freq            1               2   \n",
       "\n",
       "                                                     cast           director  \\\n",
       "count                                                1889               1889   \n",
       "unique                                               1878                957   \n",
       "top     Elijah Wood|Ian McKellen|Viggo Mortensen|Liv T...  Steven Soderbergh   \n",
       "freq                                                    3                 13   \n",
       "\n",
       "                          tagline  \\\n",
       "count                        1889   \n",
       "unique                       1880   \n",
       "top     The only way out is down.   \n",
       "freq                            2   \n",
       "\n",
       "                                                 overview  genres  \\\n",
       "count                                                1889    1889   \n",
       "unique                                               1889     652   \n",
       "top     Dr. John Dolittle the beloved doctor is back, ...  Comedy   \n",
       "freq                                                    1     141   \n",
       "\n",
       "       production_companies release_date  \n",
       "count                  1889         1889  \n",
       "unique                 1624         1435  \n",
       "top         New Line Cinema   12/25/2014  \n",
       "freq                     21            7  "
      ]
     },
     "execution_count": 4,
     "metadata": {},
     "output_type": "execute_result"
    }
   ],
   "source": [
    "data.describe(include = object)"
   ]
  },
  {
   "cell_type": "code",
   "execution_count": 5,
   "metadata": {},
   "outputs": [
    {
     "name": "stdout",
     "output_type": "stream",
     "text": [
      "<class 'pandas.core.frame.DataFrame'>\n",
      "RangeIndex: 1889 entries, 0 to 1888\n",
      "Data columns (total 14 columns):\n",
      " #   Column                Non-Null Count  Dtype  \n",
      "---  ------                --------------  -----  \n",
      " 0   imdb_id               1889 non-null   object \n",
      " 1   budget                1889 non-null   int64  \n",
      " 2   revenue               1889 non-null   int64  \n",
      " 3   original_title        1889 non-null   object \n",
      " 4   cast                  1889 non-null   object \n",
      " 5   director              1889 non-null   object \n",
      " 6   tagline               1889 non-null   object \n",
      " 7   overview              1889 non-null   object \n",
      " 8   runtime               1889 non-null   int64  \n",
      " 9   genres                1889 non-null   object \n",
      " 10  production_companies  1889 non-null   object \n",
      " 11  release_date          1889 non-null   object \n",
      " 12  vote_average          1889 non-null   float64\n",
      " 13  release_year          1889 non-null   int64  \n",
      "dtypes: float64(1), int64(4), object(9)\n",
      "memory usage: 206.7+ KB\n"
     ]
    }
   ],
   "source": [
    "data.info()"
   ]
  },
  {
   "cell_type": "markdown",
   "metadata": {
    "colab_type": "text",
    "id": "DTIt7ezGVp-G"
   },
   "source": [
    "# Предобработка"
   ]
  },
  {
   "cell_type": "markdown",
   "metadata": {},
   "source": [
    " 1. В DataFrame data добавлен столбец \"profit\" как разница доходов и бюджета;\n",
    " \n",
    " \n",
    " 2. Создан DataFrame data_genres с двумя столбцами:\n",
    "         'imdb_id' - универсальный код фильма на imdb;\n",
    "         'genres_code' - кодировка жанров в виде массива 0-й и 1-ц.\n",
    "         \n",
    " 3. Создан DataFrame data_genres_parsed с n+1 столбцами:\n",
    "         n - число возможных жанров;\n",
    "         Число 1 в клетке означает соответствие фильма жанру, а 0 - противное.\n",
    "         \n",
    " 4. Создан DataFrame data_dates с 4-мя столбцами:\n",
    "         'imdb_id' - универсальный код фильма на imdb;\n",
    "         'day', 'month', 'year' - днём, месяцем и годом даты релиза фильма.\n",
    "         \n",
    " 5. Создан data_actors c 2-мя столбцами:\n",
    "         'imdb_id' - универсальный код фильма на imdb;\n",
    "         'actor' - имя и фамилия актёра из фильма.\n",
    "Так как для одного фильма может быть несколько актёров, то это привело к увеличению числа строк. Для склейки будем пользоваться 'imdb_id'.\n",
    "         \n",
    "         \n",
    " 6. Создан data_directors c 2-мя столбцами:\n",
    "         'imdb_id' - универсальный код фильма на imdb;\n",
    "         'director' - имя и фамилия директора (режиссёра) фильма.\n",
    "Так как для одного фильма может быть несколько директоров (режиссёров), то это привело к увеличению числа строк. Для склейки будем пользоваться 'imdb_id'.\n",
    "         \n",
    "         \n",
    " 7. Создан data_companies c 2-мя столбцами:\n",
    "         'imdb_id' - универсальный код фильма на imdb;\n",
    "         'production_company' - названии студии, участвующей в съёмках фильма.      \n",
    "Так как для одного фильма может быть несколько студий, то это привело к увеличению числа строк. Для склейки будем пользоваться 'imdb_id'."
   ]
  },
  {
   "cell_type": "code",
   "execution_count": 6,
   "metadata": {
    "colab": {},
    "colab_type": "code",
    "id": "jNb40DwKVp-H"
   },
   "outputs": [],
   "source": [
    "answers = {} # создадим словарь для ответов\n",
    "\n",
    "# тут другие ваши предобработки колонок например:"
   ]
  },
  {
   "cell_type": "markdown",
   "metadata": {},
   "source": [
    "## 1. DataFrame *data*."
   ]
  },
  {
   "cell_type": "code",
   "execution_count": 7,
   "metadata": {},
   "outputs": [],
   "source": [
    "data['profit'] = data.revenue - data.budget"
   ]
  },
  {
   "cell_type": "markdown",
   "metadata": {},
   "source": [
    "## 2. DataFrame *data_genres*."
   ]
  },
  {
   "cell_type": "code",
   "execution_count": 8,
   "metadata": {},
   "outputs": [
    {
     "data": {
      "text/plain": [
       "imdb_id                                                tt0369610\n",
       "genres_code    [0.0, 1.0, 1.0, 0.0, 0.0, 0.0, 0.0, 0.0, 0.0, ...\n",
       "Name: 0, dtype: object"
      ]
     },
     "metadata": {},
     "output_type": "display_data"
    },
    {
     "data": {
      "text/plain": [
       "'Action|Adventure|Science Fiction|Thriller'"
      ]
     },
     "metadata": {},
     "output_type": "display_data"
    }
   ],
   "source": [
    "#genres - list of the all genres listed in data DataFrame.\n",
    "\n",
    "genres = []\n",
    "for _tmp in data.genres.unique():\n",
    "    for genre in _tmp.split('|'):\n",
    "        genres.append(genre)\n",
    "genres = list(set(genres))\n",
    "\n",
    "\n",
    "# genre_encoding function consumes the string of genres seperated with symbol '|' \n",
    "# and returns the numpy array of zeros and ones,\n",
    "# where one means the genre in genres at the same position.\n",
    "\n",
    "def genre_encoding(movie_genres):\n",
    "    genres_code = np.zeros(len(genres))\n",
    "    for i, genre in  enumerate(genres):\n",
    "        if genre in movie_genres.split('|'):\n",
    "            genres_code[i] = 1\n",
    "    return genres_code\n",
    "\n",
    "\n",
    "# genre_decoding function consumes the list / numpy array of zeros and ones,\n",
    "# where one means the genre in genres at the same position,\n",
    "# and returns the string of genres seperated with symbol '|' \n",
    "\n",
    "def genre_decoding(genres_code):\n",
    "    movie_genres = ''\n",
    "    for i, code in enumerate(genres_code):\n",
    "        if code != 0.0:\n",
    "            movie_genres += genres[i] + '|'\n",
    "    return movie_genres[:-1]\n",
    "\n",
    "\n",
    "data_genres_columns = ['imdb_id', 'genres_code']\n",
    "data_genres = pd.DataFrame(columns=data_genres_columns)\n",
    "data_genres['imdb_id'] = data['imdb_id']\n",
    "data_genres['genres_code'] = data['genres'].apply(genre_encoding)\n",
    "data['genres_code'] = data['genres'].apply(genre_encoding)\n",
    "\n",
    "display(data_genres.iloc[0])\n",
    "display(data['genres'].iloc[0])"
   ]
  },
  {
   "cell_type": "markdown",
   "metadata": {},
   "source": [
    "## 3. DataFrame *data_genres_parsed*."
   ]
  },
  {
   "cell_type": "code",
   "execution_count": 9,
   "metadata": {},
   "outputs": [
    {
     "data": {
      "text/plain": [
       "imdb_id            tt0369610\n",
       "Music                      0\n",
       "Thriller                   1\n",
       "Adventure                  1\n",
       "War                        0\n",
       "Comedy                     0\n",
       "Family                     0\n",
       "Foreign                    0\n",
       "Western                    0\n",
       "Documentary                0\n",
       "Science Fiction            1\n",
       "Crime                      0\n",
       "Action                     1\n",
       "Drama                      0\n",
       "Romance                    0\n",
       "Horror                     0\n",
       "History                    0\n",
       "Animation                  0\n",
       "Fantasy                    0\n",
       "Mystery                    0\n",
       "Name: 0, dtype: object"
      ]
     },
     "metadata": {},
     "output_type": "display_data"
    },
    {
     "data": {
      "text/plain": [
       "'Action|Adventure|Science Fiction|Thriller'"
      ]
     },
     "metadata": {},
     "output_type": "display_data"
    }
   ],
   "source": [
    "data_genres_parsed = data_genres.copy(deep=True)\n",
    "data_genres_parsed[genres] = pd.DataFrame(data_genres['genres_code'].tolist(),\n",
    "                                          index=data_genres.index)\n",
    "data_genres_parsed = data_genres_parsed.drop('genres_code', axis=1) \n",
    "\n",
    "#Print the 1st row to check the parse\n",
    "display(data_genres_parsed.iloc[0])\n",
    "display(data['genres'].iloc[0])"
   ]
  },
  {
   "cell_type": "markdown",
   "metadata": {},
   "source": [
    "## 4. DataFrame *data_dates*."
   ]
  },
  {
   "cell_type": "code",
   "execution_count": 10,
   "metadata": {},
   "outputs": [
    {
     "data": {
      "text/html": [
       "<div>\n",
       "<style scoped>\n",
       "    .dataframe tbody tr th:only-of-type {\n",
       "        vertical-align: middle;\n",
       "    }\n",
       "\n",
       "    .dataframe tbody tr th {\n",
       "        vertical-align: top;\n",
       "    }\n",
       "\n",
       "    .dataframe thead th {\n",
       "        text-align: right;\n",
       "    }\n",
       "</style>\n",
       "<table border=\"1\" class=\"dataframe\">\n",
       "  <thead>\n",
       "    <tr style=\"text-align: right;\">\n",
       "      <th></th>\n",
       "      <th>imdb_id</th>\n",
       "      <th>month</th>\n",
       "      <th>day</th>\n",
       "      <th>year</th>\n",
       "    </tr>\n",
       "  </thead>\n",
       "  <tbody>\n",
       "    <tr>\n",
       "      <th>799</th>\n",
       "      <td>tt1152398</td>\n",
       "      <td>1</td>\n",
       "      <td>21</td>\n",
       "      <td>2011</td>\n",
       "    </tr>\n",
       "    <tr>\n",
       "      <th>1730</th>\n",
       "      <td>tt0481141</td>\n",
       "      <td>7</td>\n",
       "      <td>25</td>\n",
       "      <td>2007</td>\n",
       "    </tr>\n",
       "    <tr>\n",
       "      <th>359</th>\n",
       "      <td>tt0458525</td>\n",
       "      <td>4</td>\n",
       "      <td>28</td>\n",
       "      <td>2009</td>\n",
       "    </tr>\n",
       "    <tr>\n",
       "      <th>1034</th>\n",
       "      <td>tt1430626</td>\n",
       "      <td>3</td>\n",
       "      <td>12</td>\n",
       "      <td>2012</td>\n",
       "    </tr>\n",
       "    <tr>\n",
       "      <th>1116</th>\n",
       "      <td>tt0302886</td>\n",
       "      <td>2</td>\n",
       "      <td>21</td>\n",
       "      <td>2003</td>\n",
       "    </tr>\n",
       "  </tbody>\n",
       "</table>\n",
       "</div>"
      ],
      "text/plain": [
       "        imdb_id  month  day  year\n",
       "799   tt1152398      1   21  2011\n",
       "1730  tt0481141      7   25  2007\n",
       "359   tt0458525      4   28  2009\n",
       "1034  tt1430626      3   12  2012\n",
       "1116  tt0302886      2   21  2003"
      ]
     },
     "metadata": {},
     "output_type": "display_data"
    },
    {
     "name": "stdout",
     "output_type": "stream",
     "text": [
      "True\n"
     ]
    }
   ],
   "source": [
    "data_dates = pd.DataFrame(data['release_date'].str.split('/').tolist(),\n",
    "                          columns=['month', 'day', 'year'])\n",
    "\n",
    "data_dates.insert(loc=0, column='imdb_id', value=data['imdb_id'])\n",
    "\n",
    "for column_name in ['month', 'day', 'year']:\n",
    "    data_dates[column_name] = data_dates[column_name].apply(lambda x: int(x))\n",
    "\n",
    "display(data_dates.sample(5))\n",
    "\n",
    "\n",
    "# Check the year in release_data and release_year in data.\n",
    "\n",
    "print((data_dates['year'] == data['release_year']).any())"
   ]
  },
  {
   "cell_type": "markdown",
   "metadata": {},
   "source": [
    "## 5. DataFrame *data_actors*."
   ]
  },
  {
   "cell_type": "code",
   "execution_count": 11,
   "metadata": {},
   "outputs": [
    {
     "data": {
      "text/html": [
       "<div>\n",
       "<style scoped>\n",
       "    .dataframe tbody tr th:only-of-type {\n",
       "        vertical-align: middle;\n",
       "    }\n",
       "\n",
       "    .dataframe tbody tr th {\n",
       "        vertical-align: top;\n",
       "    }\n",
       "\n",
       "    .dataframe thead th {\n",
       "        text-align: right;\n",
       "    }\n",
       "</style>\n",
       "<table border=\"1\" class=\"dataframe\">\n",
       "  <thead>\n",
       "    <tr style=\"text-align: right;\">\n",
       "      <th></th>\n",
       "      <th>imdb_id</th>\n",
       "      <th>actor</th>\n",
       "    </tr>\n",
       "  </thead>\n",
       "  <tbody>\n",
       "    <tr>\n",
       "      <th>0</th>\n",
       "      <td>tt0369610</td>\n",
       "      <td>Chris Pratt</td>\n",
       "    </tr>\n",
       "    <tr>\n",
       "      <th>1</th>\n",
       "      <td>tt0369610</td>\n",
       "      <td>Bryce Dallas Howard</td>\n",
       "    </tr>\n",
       "    <tr>\n",
       "      <th>2</th>\n",
       "      <td>tt0369610</td>\n",
       "      <td>Irrfan Khan</td>\n",
       "    </tr>\n",
       "    <tr>\n",
       "      <th>3</th>\n",
       "      <td>tt0369610</td>\n",
       "      <td>Vincent D'Onofrio</td>\n",
       "    </tr>\n",
       "    <tr>\n",
       "      <th>4</th>\n",
       "      <td>tt0369610</td>\n",
       "      <td>Nick Robinson</td>\n",
       "    </tr>\n",
       "  </tbody>\n",
       "</table>\n",
       "</div>"
      ],
      "text/plain": [
       "     imdb_id                actor\n",
       "0  tt0369610          Chris Pratt\n",
       "1  tt0369610  Bryce Dallas Howard\n",
       "2  tt0369610          Irrfan Khan\n",
       "3  tt0369610    Vincent D'Onofrio\n",
       "4  tt0369610        Nick Robinson"
      ]
     },
     "metadata": {},
     "output_type": "display_data"
    },
    {
     "data": {
      "text/plain": [
       "\"Chris Pratt|Bryce Dallas Howard|Irrfan Khan|Vincent D'Onofrio|Nick Robinson\""
      ]
     },
     "metadata": {},
     "output_type": "display_data"
    }
   ],
   "source": [
    "data_actors = data[['imdb_id','cast']].copy(deep=True)\n",
    "try:\n",
    "    data_actors = data_actors.rename(columns={'cast':'actor'})\n",
    "    data_actors['actor'] = data_actors['actor'].str.split('|')\n",
    "    data_actors = data_actors.explode('actor')\n",
    "    data_actors = data_actors.reset_index(drop=True)\n",
    "except:\n",
    "    pass\n",
    "display(data_actors.head(5))\n",
    "display(data['cast'].iloc[0])"
   ]
  },
  {
   "cell_type": "markdown",
   "metadata": {},
   "source": [
    "## 5. DataFrame *data_directors*."
   ]
  },
  {
   "cell_type": "code",
   "execution_count": 12,
   "metadata": {},
   "outputs": [
    {
     "data": {
      "text/html": [
       "<div>\n",
       "<style scoped>\n",
       "    .dataframe tbody tr th:only-of-type {\n",
       "        vertical-align: middle;\n",
       "    }\n",
       "\n",
       "    .dataframe tbody tr th {\n",
       "        vertical-align: top;\n",
       "    }\n",
       "\n",
       "    .dataframe thead th {\n",
       "        text-align: right;\n",
       "    }\n",
       "</style>\n",
       "<table border=\"1\" class=\"dataframe\">\n",
       "  <thead>\n",
       "    <tr style=\"text-align: right;\">\n",
       "      <th></th>\n",
       "      <th>imdb_id</th>\n",
       "      <th>author</th>\n",
       "    </tr>\n",
       "  </thead>\n",
       "  <tbody>\n",
       "    <tr>\n",
       "      <th>0</th>\n",
       "      <td>tt0369610</td>\n",
       "      <td>Colin Trevorrow</td>\n",
       "    </tr>\n",
       "    <tr>\n",
       "      <th>1</th>\n",
       "      <td>tt1392190</td>\n",
       "      <td>George Miller</td>\n",
       "    </tr>\n",
       "    <tr>\n",
       "      <th>2</th>\n",
       "      <td>tt2908446</td>\n",
       "      <td>Robert Schwentke</td>\n",
       "    </tr>\n",
       "    <tr>\n",
       "      <th>3</th>\n",
       "      <td>tt2488496</td>\n",
       "      <td>J.J. Abrams</td>\n",
       "    </tr>\n",
       "    <tr>\n",
       "      <th>4</th>\n",
       "      <td>tt2820852</td>\n",
       "      <td>James Wan</td>\n",
       "    </tr>\n",
       "  </tbody>\n",
       "</table>\n",
       "</div>"
      ],
      "text/plain": [
       "     imdb_id            author\n",
       "0  tt0369610   Colin Trevorrow\n",
       "1  tt1392190     George Miller\n",
       "2  tt2908446  Robert Schwentke\n",
       "3  tt2488496       J.J. Abrams\n",
       "4  tt2820852         James Wan"
      ]
     },
     "metadata": {},
     "output_type": "display_data"
    }
   ],
   "source": [
    "data_directors = data[['imdb_id','director']].copy(deep=True)\n",
    "\n",
    "try:\n",
    "    data_directors = data_directors.rename(columns={'director':'author'})\n",
    "    data_directors['author'] = data_directors['author'].str.split('|')\n",
    "    data_directors = data_directors.explode('author')\n",
    "    data_directors = data_directors.reset_index(drop=True)\n",
    "except:\n",
    "    pass\n",
    "\n",
    "display(data_directors.head(5))"
   ]
  },
  {
   "cell_type": "markdown",
   "metadata": {},
   "source": [
    "## 6. DataFrame data_companies"
   ]
  },
  {
   "cell_type": "code",
   "execution_count": 13,
   "metadata": {},
   "outputs": [
    {
     "data": {
      "text/html": [
       "<div>\n",
       "<style scoped>\n",
       "    .dataframe tbody tr th:only-of-type {\n",
       "        vertical-align: middle;\n",
       "    }\n",
       "\n",
       "    .dataframe tbody tr th {\n",
       "        vertical-align: top;\n",
       "    }\n",
       "\n",
       "    .dataframe thead th {\n",
       "        text-align: right;\n",
       "    }\n",
       "</style>\n",
       "<table border=\"1\" class=\"dataframe\">\n",
       "  <thead>\n",
       "    <tr style=\"text-align: right;\">\n",
       "      <th></th>\n",
       "      <th>imdb_id</th>\n",
       "      <th>company</th>\n",
       "    </tr>\n",
       "  </thead>\n",
       "  <tbody>\n",
       "    <tr>\n",
       "      <th>0</th>\n",
       "      <td>tt0369610</td>\n",
       "      <td>Universal Studios</td>\n",
       "    </tr>\n",
       "    <tr>\n",
       "      <th>1</th>\n",
       "      <td>tt0369610</td>\n",
       "      <td>Amblin Entertainment</td>\n",
       "    </tr>\n",
       "    <tr>\n",
       "      <th>2</th>\n",
       "      <td>tt0369610</td>\n",
       "      <td>Legendary Pictures</td>\n",
       "    </tr>\n",
       "    <tr>\n",
       "      <th>3</th>\n",
       "      <td>tt0369610</td>\n",
       "      <td>Fuji Television Network</td>\n",
       "    </tr>\n",
       "    <tr>\n",
       "      <th>4</th>\n",
       "      <td>tt0369610</td>\n",
       "      <td>Dentsu</td>\n",
       "    </tr>\n",
       "  </tbody>\n",
       "</table>\n",
       "</div>"
      ],
      "text/plain": [
       "     imdb_id                  company\n",
       "0  tt0369610        Universal Studios\n",
       "1  tt0369610     Amblin Entertainment\n",
       "2  tt0369610       Legendary Pictures\n",
       "3  tt0369610  Fuji Television Network\n",
       "4  tt0369610                   Dentsu"
      ]
     },
     "metadata": {},
     "output_type": "display_data"
    },
    {
     "data": {
      "text/plain": [
       "'Universal Studios|Amblin Entertainment|Legendary Pictures|Fuji Television Network|Dentsu'"
      ]
     },
     "metadata": {},
     "output_type": "display_data"
    }
   ],
   "source": [
    "data_companies = data[['imdb_id','production_companies']].copy(deep=True)\n",
    "\n",
    "try:\n",
    "    data_companies = data_companies.rename(columns={'production_companies':'company'})\n",
    "    data_companies['company'] = data_companies['company'].str.split('|')\n",
    "    data_companies = data_companies.explode('company')\n",
    "    data_companies = data_companies.reset_index(drop=True)\n",
    "except:\n",
    "    pass\n",
    "\n",
    "display(data_companies.head(5))\n",
    "display(data['production_companies'].iloc[0])"
   ]
  },
  {
   "cell_type": "markdown",
   "metadata": {},
   "source": [
    "## 7. Additional notation\n",
    "\n",
    "Next notations are used denote some temprorary parameters:\n",
    "    - data_XX_YY is DataFrame, index 'XX' is question number and sunindex 'YY' is number of DataFrame used during the question performance. If YY equals to zero, this subindex is suppresed.\n",
    "    \n",
    "    - pivot_XX_YY is PivotTable, index 'XX' is question number and sunindex 'YY' is number of DataFrame used during the question performance. If YY equals to zero, this subindex is suppresed.\n",
    "    \n",
    "    - answer_XX is answer storage parameter, where 'XX' is question number. Used to clear the code."
   ]
  },
  {
   "cell_type": "markdown",
   "metadata": {
    "colab_type": "text",
    "id": "YxZaH-nPVp-L"
   },
   "source": [
    "# 1. У какого фильма из списка самый большой бюджет?"
   ]
  },
  {
   "cell_type": "markdown",
   "metadata": {
    "colab_type": "text",
    "id": "Nd-G5gX6Vp-M"
   },
   "source": [
    "Использовать варианты ответов в коде решения запрещено.    \n",
    "Вы думаете и в жизни у вас будут варианты ответов?)"
   ]
  },
  {
   "cell_type": "code",
   "execution_count": 14,
   "metadata": {
    "colab": {},
    "colab_type": "code",
    "id": "uVnXAY5RVp-O"
   },
   "outputs": [],
   "source": [
    "# в словарь вставляем номер вопроса и ваш ответ на него\n",
    "# Пример: \n",
    "answers['1'] = '2. Spider-Man 3 (tt0413300)'\n",
    "# запишите свой вариант ответа\n",
    "answers['1'] = '5. Pirates of the Caribbean: On Stranger Tides (tt1298650)'\n",
    "# если ответили верно, можете добавить комментарий со значком \"+\""
   ]
  },
  {
   "cell_type": "code",
   "execution_count": 15,
   "metadata": {
    "colab": {},
    "colab_type": "code",
    "id": "dZwb3m28Vp-S"
   },
   "outputs": [
    {
     "name": "stdout",
     "output_type": "stream",
     "text": [
      "1. Самый большой бюджет у фильма из списка у фильма: Pirates of the Caribbean: On Stranger Tides\n"
     ]
    }
   ],
   "source": [
    "movie_budget_max = data[data.budget == data.budget.max()]\n",
    "answer_1 = movie_budget_max[['imdb_id', 'original_title']]\n",
    "\n",
    "\n",
    "print('1. Самый большой бюджет у фильма из списка у фильма:', answer_1['original_title'].iloc[0])"
   ]
  },
  {
   "cell_type": "markdown",
   "metadata": {
    "colab_type": "text",
    "id": "FNRbbI3vVp-c"
   },
   "source": [
    "# 2. Какой из фильмов самый длительный (в минутах)?"
   ]
  },
  {
   "cell_type": "code",
   "execution_count": 16,
   "metadata": {
    "colab": {},
    "colab_type": "code",
    "id": "vHAoEXNTVp-d"
   },
   "outputs": [],
   "source": [
    "# думаю логику работы с этим словарем вы уже поняли, \n",
    "# по этому не буду больше его дублировать\n",
    "answers['2'] = '2. Gods and Generals (tt0279111)'"
   ]
  },
  {
   "cell_type": "code",
   "execution_count": 17,
   "metadata": {
    "colab": {},
    "colab_type": "code",
    "id": "ot-VX2XrVp-g"
   },
   "outputs": [
    {
     "name": "stdout",
     "output_type": "stream",
     "text": [
      "2. Самый длинный фильм: Gods and Generals\n"
     ]
    }
   ],
   "source": [
    "movie_runtime_max = data[data.runtime == data.runtime.max()]\n",
    "answer_2 = movie_runtime_max[['imdb_id', 'original_title']]\n",
    "\n",
    "\n",
    "print('2. Самый длинный фильм:', answer_2['original_title'].iloc[0])"
   ]
  },
  {
   "cell_type": "markdown",
   "metadata": {
    "colab_type": "text",
    "id": "bapLlpW8Vp-k"
   },
   "source": [
    "# 3. Какой из фильмов самый короткий (в минутах)?"
   ]
  },
  {
   "cell_type": "code",
   "execution_count": 18,
   "metadata": {},
   "outputs": [],
   "source": [
    "answers['3'] = '3. Winnie the Pooh (tt1449283)'"
   ]
  },
  {
   "cell_type": "code",
   "execution_count": 19,
   "metadata": {
    "colab": {},
    "colab_type": "code",
    "id": "YBxaSHuAVp-l"
   },
   "outputs": [
    {
     "name": "stdout",
     "output_type": "stream",
     "text": [
      "3. Самый короткий фильм: Winnie the Pooh\n"
     ]
    }
   ],
   "source": [
    "movie_runtime_min = data[data.runtime == data.runtime.min()]\n",
    "answer_3 = movie_runtime_min[['imdb_id', 'original_title']]\n",
    "\n",
    "\n",
    "print('3. Самый короткий фильм:', answer_3['original_title'].iloc[0])"
   ]
  },
  {
   "cell_type": "markdown",
   "metadata": {
    "colab_type": "text",
    "id": "TfQbxbfNVp-p"
   },
   "source": [
    "# 4. Какова средняя длительность фильмов?\n"
   ]
  },
  {
   "cell_type": "code",
   "execution_count": 20,
   "metadata": {},
   "outputs": [],
   "source": [
    "answers['4'] = '2. 110'"
   ]
  },
  {
   "cell_type": "code",
   "execution_count": 21,
   "metadata": {
    "colab": {},
    "colab_type": "code",
    "id": "5K6dKZYVVp-q"
   },
   "outputs": [
    {
     "name": "stdout",
     "output_type": "stream",
     "text": [
      "4. Средняя длительность фильмов:  110 минут\n"
     ]
    }
   ],
   "source": [
    "answer_4 = round(data.runtime.mean(),0)\n",
    "\n",
    "\n",
    "print('4. Средняя длительность фильмов: ', int(answer_4), 'минут')"
   ]
  },
  {
   "cell_type": "markdown",
   "metadata": {
    "colab_type": "text",
    "id": "r5TvbnT_Vp-u"
   },
   "source": [
    "# 5. Каково медианное значение длительности фильмов? "
   ]
  },
  {
   "cell_type": "code",
   "execution_count": 22,
   "metadata": {},
   "outputs": [],
   "source": [
    "answers['5'] = '2. 107'"
   ]
  },
  {
   "cell_type": "code",
   "execution_count": 23,
   "metadata": {
    "colab": {},
    "colab_type": "code",
    "id": "iBROplKnVp-v"
   },
   "outputs": [
    {
     "name": "stdout",
     "output_type": "stream",
     "text": [
      "4. Медианная длительность фильмов:  107 минут\n"
     ]
    }
   ],
   "source": [
    "answer_5 = round(data.runtime.median(),0)\n",
    "\n",
    "\n",
    "print('4. Медианная длительность фильмов: ', int(answer_5), 'минут')"
   ]
  },
  {
   "cell_type": "markdown",
   "metadata": {
    "colab_type": "text",
    "id": "39P-deDSVp-y"
   },
   "source": [
    "# 6. Какой самый прибыльный фильм?\n",
    "#### Внимание! Здесь и далее под «прибылью» или «убытками» понимается разность между сборами и бюджетом фильма. (прибыль = сборы - бюджет) в нашем датасете это будет (profit = revenue - budget) "
   ]
  },
  {
   "cell_type": "code",
   "execution_count": 24,
   "metadata": {},
   "outputs": [],
   "source": [
    "answers['6'] = '5. Avatar (tt0499549)'"
   ]
  },
  {
   "cell_type": "code",
   "execution_count": 25,
   "metadata": {
    "colab": {},
    "colab_type": "code",
    "id": "UYZh4T9WVp-y"
   },
   "outputs": [
    {
     "name": "stdout",
     "output_type": "stream",
     "text": [
      "6. Самый прибыльный фильм: Avatar\n"
     ]
    }
   ],
   "source": [
    "movie_profit_max = data[data.profit == data.profit.max()]\n",
    "answer_6 = movie_profit_max[['imdb_id', 'original_title']]\n",
    "\n",
    "\n",
    "print('6. Самый прибыльный фильм:', answer_6['original_title'].iloc[0])"
   ]
  },
  {
   "cell_type": "markdown",
   "metadata": {
    "colab_type": "text",
    "id": "M99JmIX4Vp-2"
   },
   "source": [
    "# 7. Какой фильм самый убыточный? "
   ]
  },
  {
   "cell_type": "code",
   "execution_count": 26,
   "metadata": {},
   "outputs": [],
   "source": [
    "answers['7'] = '5. The Lone Ranger (tt1210819)'"
   ]
  },
  {
   "cell_type": "code",
   "execution_count": 27,
   "metadata": {
    "colab": {},
    "colab_type": "code",
    "id": "w-D2m4XPVp-3"
   },
   "outputs": [
    {
     "name": "stdout",
     "output_type": "stream",
     "text": [
      "7. Самый убыточный фильм: The Lone Ranger\n"
     ]
    }
   ],
   "source": [
    "movie_profit_min = data[data.profit == data.profit.min()]\n",
    "answer_7 = movie_profit_min[['imdb_id', 'original_title']]\n",
    "\n",
    "\n",
    "print('7. Самый убыточный фильм:', answer_7['original_title'].iloc[0])"
   ]
  },
  {
   "cell_type": "markdown",
   "metadata": {
    "colab_type": "text",
    "id": "wEOM5ERVVp-6"
   },
   "source": [
    "# 8. У скольких фильмов из датасета объем сборов оказался выше бюджета?"
   ]
  },
  {
   "cell_type": "code",
   "execution_count": 28,
   "metadata": {},
   "outputs": [],
   "source": [
    "answers['8'] = '1. 1478'"
   ]
  },
  {
   "cell_type": "code",
   "execution_count": 29,
   "metadata": {
    "colab": {},
    "colab_type": "code",
    "id": "y00_7HD6Vp-7"
   },
   "outputs": [
    {
     "name": "stdout",
     "output_type": "stream",
     "text": [
      "8. У 1478 фильмов из датасета объём сборов больше бюджета.\n"
     ]
    }
   ],
   "source": [
    "answer_8 = len(data[data.profit>0])\n",
    "\n",
    "\n",
    "print('8. У', answer_8, 'фильмов из датасета объём сборов больше бюджета.')"
   ]
  },
  {
   "cell_type": "markdown",
   "metadata": {
    "colab_type": "text",
    "id": "xhpspA9KVp_A"
   },
   "source": [
    "# 9. Какой фильм оказался самым кассовым в 2008 году?"
   ]
  },
  {
   "cell_type": "code",
   "execution_count": 30,
   "metadata": {},
   "outputs": [],
   "source": [
    "answers['9'] = '4. The Dark Knight (tt0468569)'"
   ]
  },
  {
   "cell_type": "code",
   "execution_count": 31,
   "metadata": {
    "colab": {},
    "colab_type": "code",
    "id": "MoUyQr9RVp_B"
   },
   "outputs": [
    {
     "name": "stdout",
     "output_type": "stream",
     "text": [
      "9. Самый кассовый фильм 2008 года: The Dark Knight\n"
     ]
    }
   ],
   "source": [
    "data_9 = data[data.release_year == 2008]\n",
    "answer_9 = data_9[data_9.profit == data_9.profit.max()]\n",
    "\n",
    "\n",
    "print('9. Самый кассовый фильм 2008 года:', answer_9['original_title'].iloc[0])"
   ]
  },
  {
   "cell_type": "markdown",
   "metadata": {
    "colab_type": "text",
    "id": "Zi4hDKidVp_F"
   },
   "source": [
    "# 10. Самый убыточный фильм за период с 2012 по 2014 г. (включительно)?\n"
   ]
  },
  {
   "cell_type": "code",
   "execution_count": 32,
   "metadata": {},
   "outputs": [],
   "source": [
    "answers['10'] = '5. The Lone Ranger (tt1210819)'"
   ]
  },
  {
   "cell_type": "markdown",
   "metadata": {},
   "source": [
    "ВАРИАНТ 1"
   ]
  },
  {
   "cell_type": "code",
   "execution_count": 33,
   "metadata": {
    "colab": {},
    "colab_type": "code",
    "id": "XqyRmufJVp_F"
   },
   "outputs": [
    {
     "name": "stdout",
     "output_type": "stream",
     "text": [
      "10. Самый убыточный фильм за период с 2012 по 2014: The Lone Ranger\n"
     ]
    }
   ],
   "source": [
    "data_10_1 = data[data.release_year == 2012]\n",
    "movie_profit_min_2012 = data_10_1[data_10_1.profit == data_10_1.profit.min()]\n",
    "\n",
    "data_10_2 = data[data.release_year == 2013]\n",
    "movie_profit_min_2013 = data_10_2[data_10_2.profit == data_10_2.profit.min()]\n",
    "\n",
    "data_10_3 = data[data.release_year == 2014]\n",
    "movie_profit_min_2014 = data_10_3[data_10_3.profit == data_10_3.profit.min()]\n",
    "\n",
    "data_10_4 = pd.concat([movie_profit_min_2012,movie_profit_min_2013, movie_profit_min_2014])\n",
    "answer_10 = data_10_4[data_10_4.profit == data_10_4.profit.min()]\n",
    "\n",
    "\n",
    "print('10. Самый убыточный фильм за период с 2012 по 2014:', answer_10['original_title'].iloc[0])"
   ]
  },
  {
   "cell_type": "markdown",
   "metadata": {},
   "source": [
    "ВАРИАНТ 2"
   ]
  },
  {
   "cell_type": "code",
   "execution_count": 34,
   "metadata": {},
   "outputs": [
    {
     "name": "stdout",
     "output_type": "stream",
     "text": [
      "10. Самый убыточный фильм за период с 2012 по 2014: The Lone Ranger\n"
     ]
    }
   ],
   "source": [
    "data_10 = data[(data.release_year == 2012) | (data.release_year == 2013) | (data.release_year == 2014)]\n",
    "answer_10 = data_10[data_10.profit == data_10.profit.min()]\n",
    "\n",
    "\n",
    "print('10. Самый убыточный фильм за период с 2012 по 2014:', answer_10['original_title'].iloc[0])"
   ]
  },
  {
   "cell_type": "markdown",
   "metadata": {},
   "source": [
    "ВАРИАНТ 3"
   ]
  },
  {
   "cell_type": "code",
   "execution_count": 35,
   "metadata": {},
   "outputs": [
    {
     "name": "stdout",
     "output_type": "stream",
     "text": [
      "10. Самый убыточный фильм за период с 2012 по 2014: The Lone Ranger\n"
     ]
    }
   ],
   "source": [
    "data_10 = data[data['release_year'].isin([2012,2013,2014])]\n",
    "answer_10 = data_10[data_10.profit == data_10.profit.min()]\n",
    "\n",
    "\n",
    "print('10. Самый убыточный фильм за период с 2012 по 2014:', answer_10['original_title'].iloc[0])"
   ]
  },
  {
   "cell_type": "markdown",
   "metadata": {
    "colab_type": "text",
    "id": "EA7Sa9dkVp_I"
   },
   "source": [
    "# 11. Какого жанра фильмов больше всего?"
   ]
  },
  {
   "cell_type": "code",
   "execution_count": 36,
   "metadata": {},
   "outputs": [],
   "source": [
    "answers['11'] = '3. Drama'"
   ]
  },
  {
   "cell_type": "markdown",
   "metadata": {},
   "source": [
    "ВАРИАНТ 1"
   ]
  },
  {
   "cell_type": "code",
   "execution_count": 37,
   "metadata": {},
   "outputs": [
    {
     "name": "stdout",
     "output_type": "stream",
     "text": [
      "11. Больше всего фильмов в жанре:  Drama\n"
     ]
    }
   ],
   "source": [
    "genre_max = np.zeros(len(genres))\n",
    "genre_max[np.argmax(data_genres.genres_code.sum())] = 1.0\n",
    "\n",
    "\n",
    "print('11. Больше всего фильмов в жанре: ', genre_decoding(genre_max))"
   ]
  },
  {
   "cell_type": "markdown",
   "metadata": {
    "colab_type": "text",
    "id": "Ax6g2C8SVp_M"
   },
   "source": [
    "ВАРИАНТ 2"
   ]
  },
  {
   "cell_type": "code",
   "execution_count": 38,
   "metadata": {},
   "outputs": [
    {
     "name": "stdout",
     "output_type": "stream",
     "text": [
      "11. Больше всего фильмов в жанре:  Drama\n"
     ]
    }
   ],
   "source": [
    "answer_11 = data_genres_parsed.drop('imdb_id', axis=1).sum().sort_values(ascending=False).head(1)\n",
    "\n",
    "\n",
    "print('11. Больше всего фильмов в жанре: ', answer_11.index[0])"
   ]
  },
  {
   "cell_type": "markdown",
   "metadata": {
    "colab_type": "text",
    "id": "T9_bPWpkVp_Q"
   },
   "source": [
    "# 12. Фильмы какого жанра чаще всего становятся прибыльными? "
   ]
  },
  {
   "cell_type": "code",
   "execution_count": 39,
   "metadata": {},
   "outputs": [],
   "source": [
    "answers['12'] = '1. Drama'"
   ]
  },
  {
   "cell_type": "code",
   "execution_count": 40,
   "metadata": {
    "colab": {},
    "colab_type": "code",
    "id": "Tmt8MaK1Vp_R"
   },
   "outputs": [
    {
     "name": "stdout",
     "output_type": "stream",
     "text": [
      "12. Чаще всего становятся прибыльными фильмы в жанре: Drama\n"
     ]
    }
   ],
   "source": [
    "answer_12 = genres[np.argmax(data[data.profit > 0].genres_code.sum())]\n",
    "\n",
    "\n",
    "print('12. Чаще всего становятся прибыльными фильмы в жанре:', answer_12)"
   ]
  },
  {
   "cell_type": "markdown",
   "metadata": {
    "colab_type": "text",
    "id": "0F23bgsDVp_U"
   },
   "source": [
    "# 13. У какого режиссера самые большие суммарные кассовые сборы?"
   ]
  },
  {
   "cell_type": "code",
   "execution_count": 41,
   "metadata": {},
   "outputs": [],
   "source": [
    "answers['13'] = '5. Peter Jackson'"
   ]
  },
  {
   "cell_type": "markdown",
   "metadata": {},
   "source": [
    "ВАРИАНТ 1"
   ]
  },
  {
   "cell_type": "code",
   "execution_count": 42,
   "metadata": {
    "colab": {},
    "colab_type": "code",
    "id": "K6Z3J8ygVp_X"
   },
   "outputs": [
    {
     "name": "stdout",
     "output_type": "stream",
     "text": [
      "13. Самый большие суммарные кассовые сборы у режиссёра: Peter Jackson\n"
     ]
    }
   ],
   "source": [
    "data_13 = data_directors.merge(data, how='outer', on='imdb_id')\n",
    "pivot_13 = data_13.pivot_table(index='author', values='revenue',\n",
    "                               aggfunc='sum', fill_value=0)\n",
    "answer_13 = pivot_13.sort_values(by='revenue', ascending=False).iloc[0]\n",
    "\n",
    "\n",
    "print('13. Самый большие суммарные кассовые сборы у режиссёра:', answer_13.name)"
   ]
  },
  {
   "cell_type": "markdown",
   "metadata": {},
   "source": [
    "ВАРИАНТ 2"
   ]
  },
  {
   "cell_type": "code",
   "execution_count": 43,
   "metadata": {},
   "outputs": [
    {
     "name": "stdout",
     "output_type": "stream",
     "text": [
      "13. Самый большие суммарные кассовые сборы у режиссёра: Peter Jackson\n"
     ]
    }
   ],
   "source": [
    "# Hypothesis: there could be movies shot by several directors, but they will not be the top 1.\n",
    "\n",
    "director_revenue_sum = data.groupby(['director'])['revenue'].sum().sort_values(ascending=False)\n",
    "answer_13 = director_revenue_sum.head(1).index[0]\n",
    "\n",
    "\n",
    "print('13. Самый большие суммарные кассовые сборы у режиссёра:', answer_13)"
   ]
  },
  {
   "cell_type": "markdown",
   "metadata": {
    "colab_type": "text",
    "id": "PsYC9FgRVp_a"
   },
   "source": [
    "# 14. Какой режисер снял больше всего фильмов в стиле Action?"
   ]
  },
  {
   "cell_type": "code",
   "execution_count": 44,
   "metadata": {},
   "outputs": [],
   "source": [
    "answers['14'] = '3. Robert Rodriguez'"
   ]
  },
  {
   "cell_type": "code",
   "execution_count": 45,
   "metadata": {},
   "outputs": [
    {
     "name": "stdout",
     "output_type": "stream",
     "text": [
      "14. Больше всего фильмов в жанре Action снял: Robert Rodriguez\n"
     ]
    }
   ],
   "source": [
    "data_14 = data_directors.merge(data_genres_parsed, how='outer', on='imdb_id')\n",
    "pivot_14 = data_14.pivot_table(index='author', values='Action',\n",
    "                               aggfunc='sum', fill_value=0)\n",
    "answer_14 = pivot_14.sort_values(by='Action',ascending=False).iloc[0]\n",
    "\n",
    "\n",
    "print('14. Больше всего фильмов в жанре Action снял:', answer_14.name)"
   ]
  },
  {
   "cell_type": "markdown",
   "metadata": {
    "colab_type": "text",
    "id": "PQ0KciD7Vp_f"
   },
   "source": [
    "# 15. Фильмы с каким актером принесли самые высокие кассовые сборы в 2012 году? "
   ]
  },
  {
   "cell_type": "code",
   "execution_count": 46,
   "metadata": {},
   "outputs": [],
   "source": [
    "answers['15'] = '3. Chris Hemsworth'"
   ]
  },
  {
   "cell_type": "code",
   "execution_count": 47,
   "metadata": {},
   "outputs": [
    {
     "name": "stdout",
     "output_type": "stream",
     "text": [
      "15. Самые высокие кассовые сборы в 2012 году принесли фильмы с участием: Chris Hemsworth\n"
     ]
    }
   ],
   "source": [
    "data_15 = data[data['release_year'] == 2012]\n",
    "data_15 = data_15.merge(data_actors, how='inner', on='imdb_id')\n",
    "data_15 = data_15[['imdb_id', 'revenue', 'release_year', 'actor']]\n",
    "pivot_15 = data_15.pivot_table(index='actor', values='revenue',\n",
    "                               aggfunc='sum', fill_value=0)\n",
    "answer_15 = pivot_15.sort_values(by='revenue',ascending=False).iloc[0]\n",
    "\n",
    "\n",
    "print('15. Самые высокие кассовые сборы в 2012 году принесли фильмы с участием:', answer_15.name)"
   ]
  },
  {
   "cell_type": "markdown",
   "metadata": {
    "colab_type": "text",
    "id": "mWHyyL7QVp_j"
   },
   "source": [
    "# 16. Какой актер снялся в большем количестве высокобюджетных фильмов?\n",
    "Примечание: в фильмах, где бюджет выше среднего по данной выборке."
   ]
  },
  {
   "cell_type": "code",
   "execution_count": 48,
   "metadata": {},
   "outputs": [],
   "source": [
    "answers['16'] = '3. Matt Damon'"
   ]
  },
  {
   "cell_type": "code",
   "execution_count": 49,
   "metadata": {
    "colab": {},
    "colab_type": "code",
    "id": "qQtmHKTFVp_k"
   },
   "outputs": [
    {
     "name": "stdout",
     "output_type": "stream",
     "text": [
      "16. В большем количестве высокобюджетных фильмов снялся: Matt Damon\n"
     ]
    }
   ],
   "source": [
    "data_16 = data[data['budget'] > data['budget'].mean()]\n",
    "data_16 = data_16.merge(data_actors, how='inner', on='imdb_id')\n",
    "answer_16 = data_16['actor'].value_counts().head(1).index[0]\n",
    "\n",
    "\n",
    "print('16. В большем количестве высокобюджетных фильмов снялся:', answer_16)"
   ]
  },
  {
   "cell_type": "markdown",
   "metadata": {
    "colab_type": "text",
    "id": "NIh6AaW5Vp_n"
   },
   "source": [
    "# 17. В фильмах какого жанра больше всего снимался Nicolas Cage? "
   ]
  },
  {
   "cell_type": "code",
   "execution_count": 50,
   "metadata": {},
   "outputs": [],
   "source": [
    "answers['17'] = '2. Action'"
   ]
  },
  {
   "cell_type": "code",
   "execution_count": 51,
   "metadata": {
    "colab": {},
    "colab_type": "code",
    "id": "H74SJDIBVp_n"
   },
   "outputs": [
    {
     "name": "stdout",
     "output_type": "stream",
     "text": [
      "17. Nicolas Cage чаще всего снимался в фильмах жанра Action\n"
     ]
    }
   ],
   "source": [
    "data_17 = data_actors[data_actors['actor'] == 'Nicolas Cage']\n",
    "data_17 = data_17.merge(data_genres_parsed, how='inner', on='imdb_id')\n",
    "answer_17 = data_17.drop(['imdb_id','actor'], axis=1).sum().sort_values(ascending=False).head(1).index[0]\n",
    "\n",
    "\n",
    "print('17. Nicolas Cage чаще всего снимался в фильмах жанра', answer_17)"
   ]
  },
  {
   "cell_type": "markdown",
   "metadata": {
    "colab_type": "text",
    "id": "RqOmPRfWVp_q"
   },
   "source": [
    "# 18. Самый убыточный фильм от Paramount Pictures"
   ]
  },
  {
   "cell_type": "code",
   "execution_count": 52,
   "metadata": {},
   "outputs": [],
   "source": [
    "answers['18'] = '1. K-19: The Widowmaker'"
   ]
  },
  {
   "cell_type": "code",
   "execution_count": 53,
   "metadata": {
    "colab": {},
    "colab_type": "code",
    "id": "9E_B0Y96Vp_r"
   },
   "outputs": [
    {
     "name": "stdout",
     "output_type": "stream",
     "text": [
      "18. Самым убыточным фильмом от Paramount Pictures оказался K-19: The Widowmaker\n"
     ]
    }
   ],
   "source": [
    "data_18 = data_companies.merge(data[['imdb_id','profit', 'original_title']], how='outer', on='imdb_id')\n",
    "data_Paramount_Pictures = data_18[data_18['company'] == 'Paramount Pictures']\n",
    "data_18 = data_Paramount_Pictures[data_Paramount_Pictures['profit'] == data_Paramount_Pictures['profit'].min()]\n",
    "answer_18 = data_18['original_title'].iloc[0]\n",
    "\n",
    "\n",
    "print('18. Самым убыточным фильмом от Paramount Pictures оказался', answer_18)"
   ]
  },
  {
   "cell_type": "markdown",
   "metadata": {
    "colab_type": "text",
    "id": "vS8Ur6ddVp_u"
   },
   "source": [
    "# 19. Какой год стал самым успешным по суммарным кассовым сборам?"
   ]
  },
  {
   "cell_type": "code",
   "execution_count": 54,
   "metadata": {},
   "outputs": [],
   "source": [
    "answers['19'] = '5. 2015'"
   ]
  },
  {
   "cell_type": "code",
   "execution_count": 55,
   "metadata": {
    "colab": {},
    "colab_type": "code",
    "id": "Dnbt4GdIVp_v"
   },
   "outputs": [
    {
     "name": "stdout",
     "output_type": "stream",
     "text": [
      "19. Самым успешным по суммарным кассовым сборам оказался 2015 год\n"
     ]
    }
   ],
   "source": [
    "pivot_19 = data.pivot_table(index='release_year', values='revenue',\n",
    "                            aggfunc='sum', fill_value=0)\n",
    "answer_19 = pivot_19.sort_values(by='revenue', ascending=False).iloc[0]\n",
    "\n",
    "\n",
    "print('19. Самым успешным по суммарным кассовым сборам оказался', answer_19.name, 'год')"
   ]
  },
  {
   "cell_type": "markdown",
   "metadata": {
    "colab_type": "text",
    "id": "JAzJh4QAVp_z"
   },
   "source": [
    "# 20. Какой самый прибыльный год для студии Warner Bros?"
   ]
  },
  {
   "cell_type": "markdown",
   "metadata": {},
   "source": [
    "По моему скромному мнению, корректно этот вопрос будет звучать так: Какой самый прибыльный год для студий Warner Bros?"
   ]
  },
  {
   "cell_type": "code",
   "execution_count": 56,
   "metadata": {},
   "outputs": [],
   "source": [
    "answers['20'] = '1. 2014'"
   ]
  },
  {
   "cell_type": "code",
   "execution_count": 57,
   "metadata": {
    "colab": {},
    "colab_type": "code",
    "id": "wgVu02DEVp_0"
   },
   "outputs": [
    {
     "name": "stdout",
     "output_type": "stream",
     "text": [
      "20. Самым прибыльным годом для студий Warner Broc оказался 2014 год\n"
     ]
    }
   ],
   "source": [
    "data_20 = data_companies.merge(data[['imdb_id','profit', 'release_year', 'original_title']],\n",
    "                               how='outer', on='imdb_id')\n",
    "\n",
    "data_20['Warner_Bros_company'] = data_20['company'].apply(lambda x: 1 if 'Warner Bros.' in x else 0)\n",
    "data_Warner_Bros = data_20[data_20['Warner_Bros_company'] == 1]\n",
    "pivot_20 = data_Warner_Bros.pivot_table(index = 'release_year', values = 'profit',\n",
    "                                        aggfunc = 'sum',fill_value=0)\n",
    "answer_20 = pivot_20.sort_values(by='profit', ascending=False)\n",
    "\n",
    "\n",
    "print('20. Самым прибыльным годом для студий Warner Broc оказался', answer_20.iloc[0].name, 'год')"
   ]
  },
  {
   "cell_type": "markdown",
   "metadata": {
    "colab_type": "text",
    "id": "8Im1S2HRVp_4"
   },
   "source": [
    "# 21. В каком месяце за все годы суммарно вышло больше всего фильмов?"
   ]
  },
  {
   "cell_type": "code",
   "execution_count": 58,
   "metadata": {},
   "outputs": [],
   "source": [
    "answers['21'] = '4. Сентябрь'"
   ]
  },
  {
   "cell_type": "code",
   "execution_count": 59,
   "metadata": {
    "colab": {},
    "colab_type": "code",
    "id": "lev6TH7gVp_4"
   },
   "outputs": [
    {
     "name": "stdout",
     "output_type": "stream",
     "text": [
      "21. За все годы вышло больше всего фильмов в 9 месяце\n"
     ]
    }
   ],
   "source": [
    "answer_21 = data_dates['month'].value_counts().sort_values(ascending=False).head(1)\n",
    "\n",
    "\n",
    "print('21. За все годы вышло больше всего фильмов в', answer_21.index[0], 'месяце')"
   ]
  },
  {
   "cell_type": "markdown",
   "metadata": {
    "colab_type": "text",
    "id": "uAJsZ_NeVp_7"
   },
   "source": [
    "# 22. Сколько суммарно вышло фильмов летом? (за июнь, июль, август)"
   ]
  },
  {
   "cell_type": "code",
   "execution_count": 60,
   "metadata": {},
   "outputs": [],
   "source": [
    "answers['22'] = '2. 450'"
   ]
  },
  {
   "cell_type": "code",
   "execution_count": 61,
   "metadata": {
    "colab": {},
    "colab_type": "code",
    "id": "Aa-hEREoVp_8"
   },
   "outputs": [
    {
     "name": "stdout",
     "output_type": "stream",
     "text": [
      "22. Летом вышло 450 фильмов\n"
     ]
    }
   ],
   "source": [
    "movies_jun = data_dates['month'].value_counts().loc[6]\n",
    "movies_jul = data_dates['month'].value_counts().loc[7]\n",
    "movies_aug = data_dates['month'].value_counts().loc[8]\n",
    "answer_22 = movies_jun + movies_jul + movies_aug\n",
    "\n",
    "\n",
    "print('22. Летом вышло', answer_22, 'фильмов')"
   ]
  },
  {
   "cell_type": "markdown",
   "metadata": {
    "colab_type": "text",
    "id": "G94ppOY1VqAA"
   },
   "source": [
    "# 23. Для какого режиссера зима – самое продуктивное время года? "
   ]
  },
  {
   "cell_type": "code",
   "execution_count": 62,
   "metadata": {},
   "outputs": [],
   "source": [
    "answers['23'] = '5. Peter Jackson'"
   ]
  },
  {
   "cell_type": "code",
   "execution_count": 63,
   "metadata": {
    "colab": {},
    "colab_type": "code",
    "id": "RhNTsamuVqAB"
   },
   "outputs": [
    {
     "name": "stdout",
     "output_type": "stream",
     "text": [
      "23. Зима оказалась самым продуктивным временем года для Peter Jackson\n"
     ]
    }
   ],
   "source": [
    "data_23 = data_directors.merge(data_dates[['imdb_id', 'month']], on='imdb_id', how='inner')\n",
    "data_23['winter'] = data_23['month'].apply(lambda x: 1 if x in [1,2,12] else 0)\n",
    "data_winter = data_23[data_23.winter == 1]\n",
    "answer_23 = data_winter['author'].value_counts().head(1)\n",
    "\n",
    "\n",
    "print('23. Зима оказалась самым продуктивным временем года для', answer_23.index[0])"
   ]
  },
  {
   "cell_type": "markdown",
   "metadata": {
    "colab_type": "text",
    "id": "RBo0JVjVVqAF"
   },
   "source": [
    "# 24. Какая студия дает самые длинные названия своим фильмам по количеству символов?"
   ]
  },
  {
   "cell_type": "markdown",
   "metadata": {},
   "source": [
    "Данный вопрос может трактоваться двумя разными способами. Рассмотрим оба случая.\n",
    "\n",
    "ВАРИАНТ 1\n",
    "\n",
    "Гипотеза: Ключевая величина - максимальная длина названия фильма среди всех в списке представленных"
   ]
  },
  {
   "cell_type": "code",
   "execution_count": 64,
   "metadata": {},
   "outputs": [],
   "source": [
    "answers['24'] = '5. Four By Two Productions'"
   ]
  },
  {
   "cell_type": "code",
   "execution_count": 65,
   "metadata": {
    "colab": {},
    "colab_type": "code",
    "id": "QRGS8L0iVqAG"
   },
   "outputs": [
    {
     "name": "stdout",
     "output_type": "stream",
     "text": [
      "24. Следующие студии дают самые длинные названия своим фильмам:\n",
      "['Twentieth Century Fox Film Corporation', 'Four By Two Productions']\n",
      "P.S. Ответ выбран в соответствии с представленными вариантами\n"
     ]
    }
   ],
   "source": [
    "data_24 = data[['imdb_id', 'original_title']].copy(deep=True)\n",
    "data_24['title_length'] = data_24['original_title'].str.len()\n",
    "data_24 = data_24.merge(data_companies, on='imdb_id', how='inner')\n",
    "answer_24 = data_24[data_24.title_length == data_24.title_length.max()]\n",
    "\n",
    "\n",
    "print('24. Следующие студии дают самые длинные названия своим фильмам:')\n",
    "print(answer_24['company'].tolist())\n",
    "print('P.S. Ответ выбран в соответствии с представленными вариантами')"
   ]
  },
  {
   "cell_type": "markdown",
   "metadata": {},
   "source": [
    "ВАРИАНТ 2\n",
    "\n",
    "Гипотеза: Ключевая величина - средняя длина названия фильма для каждой студии"
   ]
  },
  {
   "cell_type": "code",
   "execution_count": 66,
   "metadata": {},
   "outputs": [
    {
     "name": "stdout",
     "output_type": "stream",
     "text": [
      "24. Следующая студия даёт самые длинные названия своим фильмам: Four By Two Productions\n"
     ]
    }
   ],
   "source": [
    "data_24 = data[['imdb_id', 'original_title']].copy(deep=True)\n",
    "data_24['title_length'] = data_24['original_title'].apply(lambda x: len(x))\n",
    "data_24 = data_24.merge(data_companies, on='imdb_id', how='inner')\n",
    "data_24.sort_values(by='title_length', ascending=False)\n",
    "\n",
    "pivot_24 = data_24.pivot_table(index='company', values='title_length',\n",
    "                               aggfunc='sum', fill_value=0)\n",
    "\n",
    "data_24 = data_companies['company'].value_counts()\n",
    "data_24 = pd.concat([data_24, pivot_24], axis=1)\n",
    "\n",
    "data_24['title_length_mean'] = data_24['title_length']/data_24['company']\n",
    "answer_24 = data_24[data_24.title_length_mean == data_24.title_length_mean.max()]\n",
    "\n",
    "\n",
    "print('24. Следующая студия даёт самые длинные названия своим фильмам:', answer_24.index[0])"
   ]
  },
  {
   "cell_type": "markdown",
   "metadata": {
    "colab_type": "text",
    "id": "9G0hbvR7VqAK"
   },
   "source": [
    "# 25. Описание фильмов какой студии в среднем самые длинные по количеству слов?"
   ]
  },
  {
   "cell_type": "code",
   "execution_count": 67,
   "metadata": {},
   "outputs": [],
   "source": [
    "answers['25'] = '3. Midnight Picture Show'"
   ]
  },
  {
   "cell_type": "code",
   "execution_count": 68,
   "metadata": {
    "colab": {},
    "colab_type": "code",
    "id": "Ge2GsLNxVqAK"
   },
   "outputs": [
    {
     "name": "stdout",
     "output_type": "stream",
     "text": [
      "25. В среднем самые длинные описания по числу слов имеет студия Midnight Picture Show\n"
     ]
    }
   ],
   "source": [
    "data_25 = data[['imdb_id', 'overview']].copy(deep=True)\n",
    "data_25['overview_length'] = data_25['overview'].str.count(' ')\n",
    "data_25 = data_25.merge(data_companies, on='imdb_id', how='inner')\n",
    "pivot_25 = data_25.pivot_table(index='company', values='overview_length',\n",
    "                               aggfunc='sum', fill_value=0)\n",
    "data_25 = data_companies['company'].value_counts()\n",
    "data_25 = pd.concat([data_25, pivot_25], axis=1)\n",
    "data_25['overview_length_mean'] = data_25['overview_length']/data_25['company']\n",
    "\n",
    "\n",
    "answer_25 = data_25[data_25.overview_length_mean == data_25.overview_length_mean.max()]\n",
    "print('25. В среднем самые длинные описания по числу слов имеет студия', answer_25.index[0])"
   ]
  },
  {
   "cell_type": "markdown",
   "metadata": {
    "colab_type": "text",
    "id": "FJ1AFt90VqAP"
   },
   "source": [
    "# 26. Какие фильмы входят в 1 процент лучших по рейтингу? \n",
    "по vote_average"
   ]
  },
  {
   "cell_type": "code",
   "execution_count": 69,
   "metadata": {},
   "outputs": [],
   "source": [
    "answers['26'] = '1. Inside Out, The Dark Knight, 12 Years a Slave'"
   ]
  },
  {
   "cell_type": "code",
   "execution_count": 70,
   "metadata": {
    "colab": {},
    "colab_type": "code",
    "id": "8qmJVq4CVqAQ"
   },
   "outputs": [
    {
     "name": "stdout",
     "output_type": "stream",
     "text": [
      "26. В 1 проценте лучших по рейтингу фильмов входят (в порядке убывания рейтинга):\n",
      "The Dark Knight\n",
      "Interstellar\n",
      "The Imitation Game\n",
      "Inside Out\n",
      "Room\n",
      "The Wolf of Wall Street\n",
      "Gone Girl\n",
      "12 Years a Slave\n",
      "Guardians of the Galaxy\n",
      "The Lord of the Rings: The Return of the King\n",
      "Memento\n",
      "Inception\n",
      "The Pianist\n",
      "The Grand Budapest Hotel\n",
      "Her\n",
      "Spotlight\n",
      "Big Hero 6\n",
      "The Fault in Our Stars\n",
      "The Lord of the Rings: The Two Towers\n"
     ]
    }
   ],
   "source": [
    "# Count 1% out of all movies\n",
    "count_movies_1p = int(round(data['imdb_id'].nunique()/100, 0))\n",
    "data_26 = data[['imdb_id','original_title','vote_average']]\n",
    "answer_26 = data_26.sort_values(by='vote_average', ascending=False).head(count_movies_1p)\n",
    "\n",
    "\n",
    "print('26. В 1 проценте лучших по рейтингу фильмов входят (в порядке убывания рейтинга):')\n",
    "for movie in answer_26['original_title'].tolist():\n",
    "    print(movie)"
   ]
  },
  {
   "cell_type": "markdown",
   "metadata": {
    "colab_type": "text",
    "id": "MdXsUXbCVqAV"
   },
   "source": [
    "# 27. Какие актеры чаще всего снимаются в одном фильме вместе?\n"
   ]
  },
  {
   "cell_type": "code",
   "execution_count": 71,
   "metadata": {},
   "outputs": [],
   "source": [
    "answers['27'] = '5. Daniel Radcliffe & Rupert Grint'"
   ]
  },
  {
   "cell_type": "markdown",
   "metadata": {},
   "source": [
    "ВАРИАНТ 1. ДОЛГИЙ"
   ]
  },
  {
   "cell_type": "code",
   "execution_count": 73,
   "metadata": {},
   "outputs": [
    {
     "name": "stdout",
     "output_type": "stream",
     "text": [
      "Всего вариантов 3406\n",
      "Уменьшенное число вариантов 443\n",
      "27. Чаще всего снимались вместе следующие пары актёров:\n",
      "'Daniel Radcliffe', 'Emma Watson'\n",
      "'Daniel Radcliffe', 'Rupert Grint'\n",
      "'Emma Watson', 'Rupert Grint'\n"
     ]
    }
   ],
   "source": [
    "# Hypothesis: actors, who played only once or a few times could not be in the answer's list\n",
    "# This parameter is noted as hyp and it's nature is pretty empirical\n",
    "# Greater hyp leads to less evaluation time, but it should be too large.\n",
    "\n",
    "hyp = 5\n",
    "\n",
    "# Count movies to each actor indexed by imdb_id\n",
    "\n",
    "data_27 = data_actors['actor'].value_counts()\n",
    "print('Всего вариантов', len(data_27))\n",
    "data_27 = data_27[data_27 > hyp]\n",
    "print('Уменьшенное число вариантов', len(data_27))\n",
    "data_27 = pd.DataFrame(data_27)\n",
    "data_27 = data_27.reset_index()\n",
    "data_27 = data_27.rename(columns={'actor':'count_movies','index':'actor'})\n",
    "data_27_1 = data_actors.merge(data_27, how='inner', on='actor')\n",
    "\n",
    "\n",
    "# Go thru the created DataFrame and count the common movies for each pair\n",
    "\n",
    "actors_27 = data_27_1['actor'].unique()\n",
    "data_27_1.drop('count_movies', axis=1)\n",
    "cand = []\n",
    "_n = len(actors_27)\n",
    "for i, actor_x in enumerate(actors_27):\n",
    "    for j, actor_y in enumerate(actors_27[i+1:]):\n",
    "        movies_x = data_27_1[data_27_1['actor'] == actor_x]\n",
    "        movies_y = data_27_1[data_27_1['actor'] == actor_y]\n",
    "        n = len(movies_x.merge(movies_y, how='inner', on='imdb_id'))\n",
    "        if n > 1:\n",
    "            cand.append(np.array([[actor_x, actor_y], n], dtype=object))\n",
    "\n",
    "answer_27 = np.array(cand, dtype=object)\n",
    "\n",
    "\n",
    "print('27. Чаще всего снимались вместе следующие пары актёров:')\n",
    "for pair in answer_27[answer_27[:,1] == answer_27[:,1].max()]:\n",
    "    print(str(pair[0])[1:-1])"
   ]
  },
  {
   "cell_type": "markdown",
   "metadata": {
    "colab_type": "text",
    "id": "4ymnxEVoVqAW"
   },
   "source": [
    "ВАРИАНТ 2. БЫСТРЕЕ ВАРИАНТА 1."
   ]
  },
  {
   "cell_type": "code",
   "execution_count": 74,
   "metadata": {},
   "outputs": [
    {
     "name": "stdout",
     "output_type": "stream",
     "text": [
      "27. Чаще всего снимались вместе следующие пары актёров:\n",
      "'Daniel Radcliffe', 'Rupert Grint'\n",
      "'Emma Watson', 'Rupert Grint'\n",
      "'Daniel Radcliffe', 'Emma Watson'\n"
     ]
    }
   ],
   "source": [
    "# Create a list of the DataFrames, where each element is corresponded to the unique imdb_id,\n",
    "# and contain all combinations of actors' pairs.\n",
    "\n",
    "tmp_list = []\n",
    "for imdb_id in data['imdb_id']:\n",
    "    data_27 = data_actors[data_actors['imdb_id'] ==  imdb_id]\n",
    "    data_27 = data_27.sort_values(by='actor')\n",
    "    if len(data_27) >=2:\n",
    "        data_27_1 = pd.concat([data_27[i:i+1].merge(data_27[i+1:],\n",
    "                                                    how='inner',\n",
    "                                                    on='imdb_id') for i in range(len(data_27)-1)])\n",
    "        tmp_list.append(data_27_1)\n",
    "\n",
    "        \n",
    "data_27 = pd.concat(tmp_list)\n",
    "data_27 = data_27.groupby([\"actor_x\", \"actor_y\"]).size().sort_values(ascending=False)\n",
    "answer_27 = data_27[data_27 == data_27.max()]\n",
    "\n",
    "\n",
    "print('27. Чаще всего снимались вместе следующие пары актёров:')\n",
    "for pair in answer_27.index:\n",
    "    print(str(pair)[1:-1])"
   ]
  },
  {
   "cell_type": "markdown",
   "metadata": {
    "colab_type": "text",
    "id": "U0nONFnGVqAX"
   },
   "source": [
    "# Submission"
   ]
  },
  {
   "cell_type": "code",
   "execution_count": 75,
   "metadata": {
    "colab": {},
    "colab_type": "code",
    "id": "IfcaRO9-VqAX",
    "outputId": "0f132912-32bb-4196-c98c-abfbc4ad5a5f"
   },
   "outputs": [
    {
     "data": {
      "text/plain": [
       "{'1': '5. Pirates of the Caribbean: On Stranger Tides (tt1298650)',\n",
       " '2': '2. Gods and Generals (tt0279111)',\n",
       " '3': '3. Winnie the Pooh (tt1449283)',\n",
       " '4': '2. 110',\n",
       " '5': '2. 107',\n",
       " '6': '5. Avatar (tt0499549)',\n",
       " '7': '5. The Lone Ranger (tt1210819)',\n",
       " '8': '1. 1478',\n",
       " '9': '4. The Dark Knight (tt0468569)',\n",
       " '10': '5. The Lone Ranger (tt1210819)',\n",
       " '11': '3. Drama',\n",
       " '12': '1. Drama',\n",
       " '13': '5. Peter Jackson',\n",
       " '14': '3. Robert Rodriguez',\n",
       " '15': '3. Chris Hemsworth',\n",
       " '16': '3. Matt Damon',\n",
       " '17': '2. Action',\n",
       " '18': '1. K-19: The Widowmaker',\n",
       " '19': '5. 2015',\n",
       " '20': '1. 2014',\n",
       " '21': '4. Сентябрь',\n",
       " '22': '2. 450',\n",
       " '23': '5. Peter Jackson',\n",
       " '24': '5. Four By Two Productions',\n",
       " '25': '3. Midnight Picture Show',\n",
       " '26': '1. Inside Out, The Dark Knight, 12 Years a Slave',\n",
       " '27': '5. Daniel Radcliffe & Rupert Grint'}"
      ]
     },
     "execution_count": 75,
     "metadata": {},
     "output_type": "execute_result"
    }
   ],
   "source": [
    "# в конце можно посмотреть свои ответы к каждому вопросу\n",
    "answers"
   ]
  },
  {
   "cell_type": "code",
   "execution_count": 76,
   "metadata": {
    "colab": {},
    "colab_type": "code",
    "id": "SiRmHPl8VqAd"
   },
   "outputs": [
    {
     "data": {
      "text/plain": [
       "27"
      ]
     },
     "execution_count": 76,
     "metadata": {},
     "output_type": "execute_result"
    }
   ],
   "source": [
    "# и убедиться что ни чего не пропустил)\n",
    "len(answers)"
   ]
  },
  {
   "cell_type": "code",
   "execution_count": null,
   "metadata": {},
   "outputs": [],
   "source": []
  }
 ],
 "metadata": {
  "colab": {
   "name": "Copy of [SF-DST] Movies IMBD v4.1 TEMPLATE.ipynb",
   "provenance": []
  },
  "kernelspec": {
   "display_name": "Python 3",
   "language": "python",
   "name": "python3"
  },
  "language_info": {
   "codemirror_mode": {
    "name": "ipython",
    "version": 3
   },
   "file_extension": ".py",
   "mimetype": "text/x-python",
   "name": "python",
   "nbconvert_exporter": "python",
   "pygments_lexer": "ipython3",
   "version": "3.7.6"
  }
 },
 "nbformat": 4,
 "nbformat_minor": 1
}
