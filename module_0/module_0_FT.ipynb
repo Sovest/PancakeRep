{
 "cells": [
  {
   "cell_type": "markdown",
   "metadata": {},
   "source": [
    "# Итоговое задание. Unit 0.\n",
    "### Формулировка: \n",
    "***угадать загаданное компьютером число за минимальное число попыток.***\n",
    "\n",
    "###### Критерии оценки:\n",
    "\n",
    "1. Качество кода (cоблюден стандарт pep-8, есть комментарии) — до 5 баллов.\n",
    "2. Владение функциями и строковыми величинами — до 5 баллов.\n",
    "3. Общее качество решения (насколько получилось сократить число попыток) — до 5 баллов.\n",
    "4. Код загружен на GitHub в папку module_0 — 3 балла.\n",
    "5. Работа сдана к дедлайну — 3 балла.\n",
    "\n",
    "Для того, чтобы успешно сдать проект, достаточно набрать 12 баллов."
   ]
  },
  {
   "cell_type": "code",
   "execution_count": 1,
   "metadata": {},
   "outputs": [],
   "source": [
    "import numpy as np\n",
    "\n",
    "def game_core_bisection(number, left_bound = 0, right_bound = 101):\n",
    "    '''\n",
    "    This function guesses the user-made integer, which located within (left_bound, right_bound)\n",
    "    and returns the number of steps utilized to achieve it.\n",
    "    To perform this work the bisection method is used.\n",
    "    Read more: https://en.wikipedia.org/wiki/Bisection_method\n",
    "    '''\n",
    "    count = 1\n",
    "    predict = (left_bound+right_bound) // 2\n",
    "    \n",
    "    while number != predict:\n",
    "        count+=1\n",
    "        if number > predict: left_bound = predict\n",
    "        else: right_bound = predict\n",
    "        predict = (left_bound+right_bound) // 2\n",
    "    \n",
    "    return(count)"
   ]
  },
  {
   "cell_type": "code",
   "execution_count": 2,
   "metadata": {},
   "outputs": [],
   "source": [
    "def score_game(game_core):\n",
    "    '''Запускаем игру 1000 раз, чтобы узнать, как быстро игра угадывает число'''\n",
    "    count_ls = []\n",
    "    np.random.seed(1)  # фиксируем RANDOM SEED, чтобы ваш эксперимент был воспроизводим!\n",
    "    random_array = np.random.randint(1,101, size=(1000))\n",
    "    for number in random_array:\n",
    "        count_ls.append(game_core(number))\n",
    "    score = int(np.mean(count_ls))\n",
    "    print(f\"Ваш алгоритм угадывает число в среднем за {score} попыток\")\n",
    "    return(score)"
   ]
  },
  {
   "cell_type": "code",
   "execution_count": 3,
   "metadata": {
    "scrolled": true
   },
   "outputs": [
    {
     "name": "stdout",
     "output_type": "stream",
     "text": [
      "Ваш алгоритм угадывает число в среднем за 5 попыток\n"
     ]
    },
    {
     "data": {
      "text/plain": [
       "5"
      ]
     },
     "execution_count": 3,
     "metadata": {},
     "output_type": "execute_result"
    }
   ],
   "source": [
    "score_game(game_core_bisection)"
   ]
  }
 ],
 "metadata": {
  "kernelspec": {
   "display_name": "Python 3",
   "language": "python",
   "name": "python3"
  },
  "language_info": {
   "codemirror_mode": {
    "name": "ipython",
    "version": 3
   },
   "file_extension": ".py",
   "mimetype": "text/x-python",
   "name": "python",
   "nbconvert_exporter": "python",
   "pygments_lexer": "ipython3",
   "version": "3.7.6"
  }
 },
 "nbformat": 4,
 "nbformat_minor": 4
}
